{
  "nbformat": 4,
  "nbformat_minor": 0,
  "metadata": {
    "colab": {
      "provenance": []
    },
    "kernelspec": {
      "name": "python3",
      "display_name": "Python 3"
    },
    "language_info": {
      "name": "python"
    }
  },
  "cells": [
    {
      "cell_type": "code",
      "execution_count": null,
      "metadata": {
        "id": "wxIx0Rp_LS0D"
      },
      "outputs": [],
      "source": [
        "#Exercicio A\n",
        "import pandas as pd\n",
        "\n",
        "df = pd.read_csv('https://github.com/SergioHenrique31/-NF3-BIG-DATA-SergioHenriqueFlorianoSilva/raw/41e6f2d445095d20abc59ecd6c01cb4eec8ca609/world_alcohol.csv')\n",
        "df = df.groupby('Beverage Types').agg({'Display Value': 'sum'})\n",
        "print(df)\n"
      ]
    },
    {
      "cell_type": "code",
      "source": [
        "#Exercicio B\n",
        "import pandas as pd\n",
        "\n",
        "df = pd.read_csv('https://github.com/SergioHenrique31/-NF3-BIG-DATA-SergioHenriqueFlorianoSilva/raw/41e6f2d445095d20abc59ecd6c01cb4eec8ca609/world_alcohol.csv')\n",
        "df = df.groupby(['WHO region', 'Year']).sum()\n",
        "print(df)"
      ],
      "metadata": {
        "id": "4F104LniL5pX"
      },
      "execution_count": null,
      "outputs": []
    },
    {
      "cell_type": "code",
      "source": [
        "#Exercicio C\n",
        "import pandas as pd\n",
        "\n",
        "df = pd.read_csv( 'https://github.com/SergioHenrique31/DatasetProuni/raw/2db7446b5670aa415b4e282adde22b46dd85b2e8/world_alcohol.csv')\n",
        "df_contagens_regiao = df.groupby('WHO region').agg({'Country': 'count', 'Display Value': 'sum'}).sort_values(by='Country', ascending=False)\n",
        "df_contagens_pais = df.groupby('Country').agg({'WHO region': 'count', 'Display Value': 'sum'}).sort_values(by='WHO region', ascending=False)\n",
        "df_contagens_bebida = df.groupby('Beverage Types').agg({'WHO region': 'count', 'Country': 'count', 'Display Value': 'sum'}).sort_values(by='WHO region', ascending=False)\n",
        "\n",
        "print(\"Contagem por região:\")\n",
        "print(df_contagens_regiao)\n",
        "\n",
        "print(\"\\nContagem por país:\")\n",
        "print(df_contagens_pais)\n",
        "\n",
        "print(\"\\nContagem por bebida:\")\n",
        "print(df_contagens_bebida)\n"
      ],
      "metadata": {
        "id": "CxjZNYl6MDi4"
      },
      "execution_count": null,
      "outputs": []
    },
    {
      "cell_type": "code",
      "source": [
        "#Exercicio D\n",
        "import pandas as pd\n",
        "import matplotlib.pyplot as plt\n",
        "\n",
        "df = pd.read_csv( 'https://github.com/SergioHenrique31/DatasetProuni/raw/2db7446b5670aa415b4e282adde22b46dd85b2e8/world_alcohol.csv')\n",
        "\n",
        "media = df['Display Value'].mean()\n",
        "moda = df['Display Value'].mode()[0]\n",
        "mediana = df['Display Value'].median()\n",
        "estatistica_descritiva = df['Display Value'].describe()\n",
        "\n",
        "df_agrupado_bebida = df.groupby('Beverage Types')['Display Value'].sum()\n",
        "\n",
        "plt.figure(figsize=(12, 6))\n",
        "df_agrupado_bebida.plot(kind='bar')\n",
        "plt.xlabel('Tipo de Bebida')\n",
        "plt.ylabel('Soma dos Valores')\n",
        "plt.title('Comparação dos Valores Agrupados por Tipo de Bebida')\n",
        "plt.show()\n",
        "\n",
        "print(\"Média:\", media)\n",
        "print(\"Moda:\", moda)\n",
        "print(\"Mediana:\", mediana)\n",
        "print(\"Estatística Descritiva:\\n\", estatistica_descritiva)"
      ],
      "metadata": {
        "id": "LnUo1wXZMb9e"
      },
      "execution_count": null,
      "outputs": []
    },
    {
      "cell_type": "code",
      "source": [
        "#Exercicio E\n",
        "import pandas as pd\n",
        "\n",
        "df = pd.read_csv( 'https://github.com/SergioHenrique31/DatasetProuni/raw/2db7446b5670aa415b4e282adde22b46dd85b2e8/world_alcohol.csv')\n",
        "\n",
        "df_1985 = df[df['Year'] == 1985]['Beverage Types'].sort_values(ascending=False)\n",
        "print(\"Coluna de bebidas do ano de 1985 (em ordem decrescente):\")\n",
        "print(df_1985)\n",
        "\n",
        "df_regiao_acima_4 = df[df['WHO region'] > '4']['WHO region'].sort_values(ascending=False)\n",
        "print(\"\\nColuna de Região com valores acima de 4 (em ordem decrescente):\")\n",
        "print(df_regiao_acima_4)\n",
        "\n",
        "\n"
      ],
      "metadata": {
        "colab": {
          "base_uri": "https://localhost:8080/"
        },
        "id": "kNI4TgJyMokW",
        "outputId": "597aa16c-e97d-43e7-a007-07658de489f0"
      },
      "execution_count": 12,
      "outputs": [
        {
          "output_type": "stream",
          "name": "stdout",
          "text": [
            "Coluna de bebidas do ano de 1985 (em ordem decrescente):\n",
            "2        Wine\n",
            "26       Wine\n",
            "96       Wine\n",
            "85       Wine\n",
            "81       Wine\n",
            "99       Wine\n",
            "35    Spirits\n",
            "7     Spirits\n",
            "77    Spirits\n",
            "14    Spirits\n",
            "94    Spirits\n",
            "33      Other\n",
            "44      Other\n",
            "50      Other\n",
            "71      Other\n",
            "80      Other\n",
            "24      Other\n",
            "63      Other\n",
            "76       Beer\n",
            "12       Beer\n",
            "Name: Beverage Types, dtype: object\n",
            "\n",
            "Coluna de Região com valores acima de 4 (em ordem decrescente):\n",
            "0     Western Pacific\n",
            "12    Western Pacific\n",
            "61    Western Pacific\n",
            "56    Western Pacific\n",
            "43    Western Pacific\n",
            "           ...       \n",
            "72             Africa\n",
            "71             Africa\n",
            "70             Africa\n",
            "69             Africa\n",
            "80             Africa\n",
            "Name: WHO region, Length: 100, dtype: object\n"
          ]
        }
      ]
    }
  ]
}