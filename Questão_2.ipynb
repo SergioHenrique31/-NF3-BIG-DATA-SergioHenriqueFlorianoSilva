{
  "nbformat": 4,
  "nbformat_minor": 0,
  "metadata": {
    "colab": {
      "provenance": []
    },
    "kernelspec": {
      "name": "python3",
      "display_name": "Python 3"
    },
    "language_info": {
      "name": "python"
    }
  },
  "cells": [
    {
      "cell_type": "markdown",
      "source": [
        "Questão 2"
      ],
      "metadata": {
        "id": "v5peLwmgIYYq"
      }
    },
    {
      "cell_type": "code",
      "execution_count": null,
      "metadata": {
        "id": "i27h7g4ZIC8F"
      },
      "outputs": [],
      "source": [
        "#Exercicio A\n",
        "import pandas as pd\n",
        "\n",
        "tabela = pd.read_csv('https://github.com/SergioHenrique31/DatasetProuni/raw/258658d943129d9cb3dbf8f017412866d9cecb61/cursos-prouni.csv')\n",
        "\n",
        "colunas_notas = ['nota_integral_ampla', 'nota_integral_cotas', 'nota_parcial_ampla', 'nota_parcial_cotas']\n",
        "tabela[colunas_notas] = tabela[colunas_notas].fillna(0.0)\n",
        "\n",
        "media_notas_estado = tabela.groupby('uf_busca')[colunas_notas].mean()\n",
        "\n",
        "print(media_notas_estado)"
      ]
    },
    {
      "cell_type": "code",
      "source": [
        "##Exercicio B\n",
        "import pandas as pd\n",
        "\n",
        "tabela = pd.read_csv('https://github.com/SergioHenrique31/DatasetProuni/raw/258658d943129d9cb3dbf8f017412866d9cecb61/cursos-prouni.csv')\n",
        "\n",
        "agrupado_por_grau = tabela.groupby('grau')\n",
        "\n",
        "for grupo, dados in agrupado_por_grau:\n",
        "    print(\"Grupo:\", grupo)\n",
        "    print(dados.head())\n",
        "    print(\"\\n\")\n"
      ],
      "metadata": {
        "id": "n4inwahY8m1q"
      },
      "execution_count": null,
      "outputs": []
    },
    {
      "cell_type": "code",
      "source": [
        "##Exercicio C\n",
        "import pandas as pd\n",
        "\n",
        "tabela = pd.read_csv('https://github.com/SergioHenrique31/DatasetProuni/raw/258658d943129d9cb3dbf8f017412866d9cecb61/cursos-prouni.csv')\n",
        "\n",
        "cursos_interesse = ['Matemática', 'Medicina', 'Pedagogia']\n",
        "filtro_cursos = tabela['curso_busca'].isin(cursos_interesse)\n",
        "cursos_selecionados = tabela[filtro_cursos]\n",
        "\n",
        "agrupado_por_curso = cursos_selecionados.groupby('curso_busca')\n",
        "\n",
        "for grupo, dados in agrupado_por_curso:\n",
        "    print(\"Curso:\", grupo)\n",
        "    print(dados.head())\n",
        "    print(\"\\n\")\n"
      ],
      "metadata": {
        "id": "Xsib6BSj977e"
      },
      "execution_count": null,
      "outputs": []
    },
    {
      "cell_type": "code",
      "source": [
        "#Exercicio D\n",
        "import pandas as pd\n",
        "\n",
        "tabela = pd.read_csv('https://github.com/SergioHenrique31/DatasetProuni/raw/258658d943129d9cb3dbf8f017412866d9cecb61/cursos-prouni.csv')\n",
        "\n",
        "media_notas_estado = tabela.groupby('uf_busca')['nota_integral_ampla'].mean()\n",
        "\n",
        "print(media_notas_estado)\n"
      ],
      "metadata": {
        "id": "2SVHtlIl-js5"
      },
      "execution_count": null,
      "outputs": []
    },
    {
      "cell_type": "code",
      "source": [
        "#Exercicio E\n",
        "import pandas as pd\n",
        "\n",
        "tabela = pd.read_csv('https://github.com/SergioHenrique31/DatasetProuni/raw/258658d943129d9cb3dbf8f017412866d9cecb61/cursos-prouni.csv')\n",
        "\n",
        "filtro_tecnologicos = tabela['grau'] == 'Tecnológico'\n",
        "cursos_tecnologicos = tabela[filtro_tecnologicos]\n",
        "\n",
        "agrupado_por_curso = cursos_tecnologicos.groupby('curso_busca')\n",
        "\n",
        "for grupo, dados in agrupado_por_curso:\n",
        "    print(\"Curso:\", grupo)\n",
        "    print(dados.head())\n",
        "    print(\"\\n\")\n"
      ],
      "metadata": {
        "id": "t-vib-W3_CS-"
      },
      "execution_count": null,
      "outputs": []
    },
    {
      "cell_type": "code",
      "source": [
        "#Exercicio F\n",
        "import pandas as pd\n",
        "\n",
        "tabela = pd.read_csv('https://github.com/SergioHenrique31/DatasetProuni/raw/258658d943129d9cb3dbf8f017412866d9cecb61/cursos-prouni.csv')\n",
        "\n",
        "tabela = tabela.drop('cidade_filtro', axis=1)\n",
        "\n",
        "print(tabela.head())\n"
      ],
      "metadata": {
        "id": "ahhQ9n0y_Y6r"
      },
      "execution_count": null,
      "outputs": []
    },
    {
      "cell_type": "code",
      "source": [
        "#Exercicio G\n",
        "import pandas as pd\n",
        "\n",
        "tabela = pd.read_csv('https://github.com/SergioHenrique31/DatasetProuni/raw/258658d943129d9cb3dbf8f017412866d9cecb61/cursos-prouni.csv')\n",
        "\n",
        "filtro_medicina = tabela['curso_busca'] == 'Medicina'\n",
        "cursos_medicina = tabela[filtro_medicina]\n",
        "\n",
        "media_mensalidades_medicina = cursos_medicina['mensalidade'].mean()\n",
        "\n",
        "print(\"Média das mensalidades dos cursos de Medicina:\", media_mensalidades_medicina)\n"
      ],
      "metadata": {
        "id": "qDNkiYFN_oPj"
      },
      "execution_count": null,
      "outputs": []
    },
    {
      "cell_type": "code",
      "source": [
        "#Exercicio H\n",
        "import pandas as pd\n",
        "\n",
        "tabela = pd.read_csv('https://github.com/SergioHenrique31/DatasetProuni/raw/258658d943129d9cb3dbf8f017412866d9cecb61/cursos-prouni.csv')\n",
        "\n",
        "filtro_tempo_integral = tabela['turno'] == 'Integral'\n",
        "cursos_tempo_integral = tabela[filtro_tempo_integral]\n",
        "\n",
        "media_notas_corte_tempo_integral = cursos_tempo_integral[['nota_integral_ampla', 'nota_integral_cotas']].mean()\n",
        "\n",
        "print(\"Média das notas de corte dos cursos em tempo integral:\")\n",
        "print(media_notas_corte_tempo_integral)\n"
      ],
      "metadata": {
        "id": "C9T3UXmr_3Oj"
      },
      "execution_count": null,
      "outputs": []
    },
    {
      "cell_type": "code",
      "source": [
        "#Exercicio I\n",
        "import pandas as pd\n",
        "\n",
        "tabela = pd.read_csv('https://github.com/SergioHenrique31/DatasetProuni/raw/258658d943129d9cb3dbf8f017412866d9cecb61/cursos-prouni.csv')\n",
        "\n",
        "filtro_bacharelado = tabela['grau'] == 'Bacharelado'\n",
        "cursos_bacharelado = tabela[filtro_bacharelado]\n",
        "\n",
        "estatisticas_descritivas = cursos_bacharelado['nota_integral_ampla'].describe()\n",
        "\n",
        "print(\"Estatísticas descritivas das notas de corte dos cursos de Bacharelado:\")\n",
        "print(estatisticas_descritivas)\n"
      ],
      "metadata": {
        "id": "vfJhqmRFALTZ"
      },
      "execution_count": null,
      "outputs": []
    },
    {
      "cell_type": "code",
      "source": [
        "#Exercicio J\n",
        "import pandas as pd\n",
        "import matplotlib.pyplot as plt\n",
        "\n",
        "tabela = pd.read_csv('https://github.com/SergioHenrique31/DatasetProuni/raw/258658d943129d9cb3dbf8f017412866d9cecb61/cursos-prouni.csv')\n",
        "\n",
        "media_notas_cotas_grau = tabela.groupby('grau')['nota_integral_cotas'].mean()\n",
        "\n",
        "plt.bar(media_notas_cotas_grau.index, media_notas_cotas_grau)\n",
        "plt.xlabel('Grau dos Cursos')\n",
        "plt.ylabel('Média das Notas Integrais de Cotas')\n",
        "plt.title('Comparação das Notas Integrais de Cotas por Grau dos Cursos')\n",
        "\n",
        "plt.xticks(rotation=45)\n",
        "\n",
        "plt.show()\n"
      ],
      "metadata": {
        "id": "tRQnH9uHAW89"
      },
      "execution_count": null,
      "outputs": []
    }
  ]
}